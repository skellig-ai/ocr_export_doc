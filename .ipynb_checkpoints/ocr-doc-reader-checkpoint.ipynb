{
 "cells": [
  {
   "cell_type": "code",
   "execution_count": 1,
   "metadata": {},
   "outputs": [],
   "source": [
    "# python ocr_form.py --image scans/scan_01.jpg --template form_w4.png\n",
    "\n",
    "# import the necessary packages\n",
    "from pyimagesearch.alignment import align_images\n",
    "from collections import namedtuple\n",
    "import pytesseract\n",
    "import argparse\n",
    "import imutils\n",
    "import cv2\n",
    "import numpy as np"
   ]
  },
  {
   "cell_type": "code",
   "execution_count": 2,
   "metadata": {},
   "outputs": [],
   "source": [
    "def cleanup_text(text):\n",
    "    # strip out non-ASCII text so we can draw the text on the image\n",
    "    # using OpenCV\n",
    "    return \"\".join([c if ord(c) < 128 else \"\" for c in text]).strip()\n",
    "\n",
    "##def opening(image):\n",
    "##    kernel = np.ones((5,5),np.uint8)\n",
    "##    return cv2.morphologyEx(image, cv2.MORPH_OPEN, kernel)"
   ]
  },
  {
   "cell_type": "code",
   "execution_count": 3,
   "metadata": {},
   "outputs": [],
   "source": [
    "\"\"\"\n",
    "Compute the Damerau-Levenshtein distance between two given\n",
    "strings (s1 and s2)\n",
    "\"\"\"\n",
    "def damerau_levenshtein_distance(s1, s2):\n",
    "    d = {}\n",
    "    lenstr1 = len(s1)\n",
    "    lenstr2 = len(s2)\n",
    "    for i in range(-1,lenstr1+1):\n",
    "        d[(i,-1)] = i+1\n",
    "    for j in range(-1,lenstr2+1):\n",
    "        d[(-1,j)] = j+1\n",
    "\n",
    "    for i in range(lenstr1):\n",
    "        for j in range(lenstr2):\n",
    "            if s1[i] == s2[j]:\n",
    "                cost = 0\n",
    "            else:\n",
    "                cost = 1\n",
    "            d[(i,j)] = min(\n",
    "                           d[(i-1,j)] + 1, # deletion\n",
    "                           d[(i,j-1)] + 1, # insertion\n",
    "                           d[(i-1,j-1)] + cost, # substitution\n",
    "                          )\n",
    "            if i and j and s1[i]==s2[j-1] and s1[i-1] == s2[j]:\n",
    "                d[(i,j)] = min (d[(i,j)], d[i-2,j-2] + cost) # transposition\n",
    "\n",
    "    return d[lenstr1-1,lenstr2-1]\n"
   ]
  },
  {
   "cell_type": "code",
   "execution_count": 4,
   "metadata": {},
   "outputs": [],
   "source": [
    "# # construct the argument parser and parse the arguments\n",
    "# ap = argparse.ArgumentParser()\n",
    "# ap.add_argument(\"-i\", \"--image\", required=True,\n",
    "#     help=\"path to input image that we'll align to template\")\n",
    "# ap.add_argument(\"-t\", \"--template\", required=True,\n",
    "#     help=\"path to input template image\")\n",
    "# ap.add_argument(\"-v\", \"--threshold\", required=True,\n",
    "#     help=\"path to input template image\")\n",
    "# args = vars(ap.parse_args())\n",
    "# threshold = float(args['threshold'])"
   ]
  },
  {
   "cell_type": "code",
   "execution_count": 5,
   "metadata": {},
   "outputs": [],
   "source": [
    "args = {'image':'scans/File_000.jpeg',\n",
    "        'template':'EUR-MED_C1300-1.png',\n",
    "        'threshold':'75'}\n",
    "threshold = float(args['threshold'])"
   ]
  },
  {
   "cell_type": "code",
   "execution_count": 6,
   "metadata": {},
   "outputs": [],
   "source": [
    "# create a named tuple which we can use to create locations of the\n",
    "# input document which we wish to OCR\n",
    "OCRLocation = namedtuple(\"OCRLocation\", [\"id\", \"bbox\",\n",
    "    \"filter_keywords\"])"
   ]
  },
  {
   "cell_type": "code",
   "execution_count": 7,
   "metadata": {},
   "outputs": [],
   "source": [
    "# define the locations of each area of the document we wish to OCR\n",
    "OCR_LOCATIONS = [\n",
    "    OCRLocation(\"Exporter\", (100, 71, 734, 201),\n",
    "        []),\n",
    "    OCRLocation(\"preferential_trade_between\", (866, 216, 689, 186),\n",
    "        [\"and\", \".\"]),\n",
    "    OCRLocation(\"Consignee\", (125, 273, 734, 334),\n",
    "        [\"Consignee\", \"(Name\", \"full address\", \"country)\", \",\", \"(Optional)\", \"3\"]),\n",
    "    OCRLocation(\"transport_details\", (125, 607, 734, 266),\n",
    "        [\"Transport\", \"details\", \"(Optional)\", \"6\"]),\n",
    "    OCRLocation(\"item_number\", (126, 876, 377, 990),\n",
    "        [\"8\", \"Item\", \"number:\", \"marks\", \"and\", \"numbers\"]),\n",
    "    OCRLocation(\"description_of_goods\", (533, 876, 691, 990),\n",
    "        [\"Number\", \"and\", \"kind\", \"of\", \"packages\", \"(1):\", \"description\", \"goods\"]),\n",
    "    OCRLocation(\"gross_weight\", (1235, 877, 166, 990), \n",
    "        [\"Gross\", \"weight\", \"(kg)\", \"or\", \"other\", \"measure\", \"(litres,\", \"cu.\", \"m.,\", \"etc)\"]),\n",
    "    OCRLocation(\"customs_office\", (124, 1873, 900, 208),\n",
    "        [\"Customs\", \"11.\", \"office\", 'Declaration', 'certified', 'Export', 'document', '(2):', 'From', 'No.', 'Endorsement', 'stamp', 'Issuing', 'country', 'or', 'territory', 'UNITED', 'KINGDOM']),\n",
    "    OCRLocation(\"customs_date_signature\", (124, 2082, 900, 190),\n",
    "        [\"Date\", \"(Signature)\", 'Issuing', 'country', 'or', 'territory', 'UNITED', 'KINGDOM']),\n",
    "    OCRLocation(\"exporter_date_signature\", (1024, 1871, 554, 401),\n",
    "        ['12.', 'Declaration', 'by', 'Exporter', 'I,', 'the', 'undersigned,', 'declare', 'that', 'the', 'goods', 'described', 'above', 'meet', 'conditions', 'required', 'for', 'issue', 'of', 'this', 'certificate.',\"(Place\", \"and\", \"date\", \"Signature\", \".\"]),\n",
    "    \n",
    "]"
   ]
  },
  {
   "cell_type": "code",
   "execution_count": 8,
   "metadata": {},
   "outputs": [],
   "source": [
    "ground_truth = {\"Exporter\":[\"Luke Skywalker\", \"Remote Island\", \"Ahch-To\", \"Outer Reaches\"],\n",
    "                \"preferential_trade_between\":[\"Ahch-To\", \"Jakko\"],\n",
    "                \"Consignee\":[\"Rey Palpatine\", \"Niima Outpost\", \"Jakko\", \"Western Reaches\"],\n",
    "                \"transport_details\":[\"Millennium Falcon\"],\n",
    "                \"item_number\":[\"#03418GH 093\"],\n",
    "                \"description_of_goods\":[\"Ancient Jedi texts\"],\n",
    "                \"gross_weight\":[\"15 kg\"],\n",
    "                \"customs_office\":[\"Ahch-To\", \"30327\", \"Niima Outpost Militia\"],\n",
    "                \"customs_date_signature\":[\"20/01/21\", \"Constable Zuvio\"],\n",
    "                \"exporter_date_signature\":[\"Jedi Temple, 01/12/20\", \"Luck Skywalker\"]}"
   ]
  },
  {
   "cell_type": "code",
   "execution_count": 9,
   "metadata": {},
   "outputs": [
    {
     "name": "stdout",
     "output_type": "stream",
     "text": [
      "[INFO] loading images...\n"
     ]
    }
   ],
   "source": [
    "# load the input image and template from disk\n",
    "print(\"[INFO] loading images...\")\n",
    "image = cv2.imread(args[\"image\"])\n",
    "template = cv2.imread(args[\"template\"])\n",
    "image_y, image_x, _ = image.shape"
   ]
  },
  {
   "cell_type": "code",
   "execution_count": 10,
   "metadata": {},
   "outputs": [
    {
     "name": "stdout",
     "output_type": "stream",
     "text": [
      "[INFO] aligning images...\n"
     ]
    }
   ],
   "source": [
    "# align the images\n",
    "print(\"[INFO] aligning images...\")\n",
    "aligned = align_images(cv2.threshold(image, threshold, 255, cv2.THRESH_BINARY)[1], template, debug=False)\n",
    "# aligned = cv2.resize(aligned, (image_x, image_y))"
   ]
  },
  {
   "cell_type": "code",
   "execution_count": 11,
   "metadata": {},
   "outputs": [
    {
     "data": {
      "text/plain": [
       "(1.7238135955536553, 1.8282950423216444)"
      ]
     },
     "execution_count": 11,
     "metadata": {},
     "output_type": "execute_result"
    }
   ],
   "source": [
    "i_y, i_x, _ = image.shape\n",
    "a_y, a_x, _ = aligned.shape\n",
    "i_y/a_y, i_x/a_x"
   ]
  },
  {
   "cell_type": "code",
   "execution_count": 12,
   "metadata": {},
   "outputs": [
    {
     "name": "stdout",
     "output_type": "stream",
     "text": [
      "[INFO] OCR'ing document...\n"
     ]
    }
   ],
   "source": [
    "# initialize a results list to store the document OCR parsing results\n",
    "print(\"[INFO] OCR'ing document...\")\n",
    "parsingResults = []"
   ]
  },
  {
   "cell_type": "code",
   "execution_count": 13,
   "metadata": {},
   "outputs": [],
   "source": [
    "# loop over the locations of the document we are going to OCR\n",
    "for loc in OCR_LOCATIONS:\n",
    "    # extract the OCR ROI from the aligned image\n",
    "    (x, y, w, h) = loc.bbox\n",
    "    roi = aligned[y:y + h, x:x + w]\n",
    "\n",
    "    # OCR the ROI using Tesseract\n",
    "    binary = cv2.threshold(roi, threshold, 255, cv2.THRESH_BINARY)[1]\n",
    "    img = cv2.resize(binary, None, fx=2, fy=2, interpolation=cv2.INTER_CUBIC)\n",
    "##  binary = cv2.threshold(roi, 0, 255, cv2.THRESH_BINARY + cv2.THRESH_OTSU)[1]\n",
    "##  opening = opening(image)\n",
    "    rgb = cv2.cvtColor(roi, cv2.COLOR_BGR2RGB)\n",
    "    text = pytesseract.image_to_string(rgb)\n",
    "\n",
    "    # break the text into lines and loop over them\n",
    "    for line in text.split(\"\\n\"):\n",
    "        # if the line is empty, ignore it\n",
    "        if len(line) == 0:\n",
    "            continue\n",
    "\n",
    "        # convert the line to lowercase and then check to see if the\n",
    "        # line contains any of the filter keywords (these keywords\n",
    "        # are part of the *form itself* and should be ignored)\n",
    "        lower = line.lower()\n",
    "        count = sum([lower.count(x) for x in loc.filter_keywords])\n",
    "\n",
    "        # if the count is zero than we know we are *not* examining a\n",
    "        # text field that is part of the document itself (ex., info,\n",
    "        # on the field, an example, help text, etc.)\n",
    "        if count == 0:\n",
    "            # update our parsing results dictionary with the OCR'd\n",
    "            # text if the line is *not* empty\n",
    "            parsingResults.append([loc, line])"
   ]
  },
  {
   "cell_type": "code",
   "execution_count": 14,
   "metadata": {},
   "outputs": [],
   "source": [
    "# initialize a dictionary to store our final OCR results\n",
    "results = {}\n",
    "\n",
    "# loop over the results of parsing the document\n",
    "for (loc, line) in parsingResults:\n",
    "    # grab any existing OCR result for the current ID of the document\n",
    "    r = results.get(loc.id, None)\n",
    "\n",
    "    # if the result is None, initialize it using the text and location\n",
    "    # namedtuple (converting it to a dictionary as namedtuples are not\n",
    "    # hashable)\n",
    "    if r is None:\n",
    "        results[loc.id] = (line, loc._asdict())\n",
    "\n",
    "    # otherwise, there exists a OCR result for the current area of the\n",
    "    # document, so we should append our existing line\n",
    "    else:\n",
    "        # unpack the existing OCR result and append the line to the\n",
    "        # existing text\n",
    "        (existingText, loc) = r\n",
    "        text = \"{}\\n{}\".format(existingText, line)\n",
    "\n",
    "        # update our results dictionary\n",
    "        results[loc[\"id\"]] = (text, loc)"
   ]
  },
  {
   "cell_type": "code",
   "execution_count": 15,
   "metadata": {},
   "outputs": [],
   "source": [
    "headings = ['1. Exporter (Name, full address, country)',\n",
    "            '2. Certificate used in preferential trade between',\n",
    "            '3. Consignee (Name, full address, country)(Optional)',\n",
    "            '6. Transport details (Optional)',\n",
    "            '8.1. Item number: marks and numbers',\n",
    "            '8.2. Number and kind of packages (1): description of goods',\n",
    "            '9. Gross weight (kg) of other measure (liters, cu. m., etc)',\n",
    "            '11.1. Customs Endorsement',\n",
    "            '11.2. Customs Signature',\n",
    "            '12. Declaration by the Exporter']"
   ]
  },
  {
   "cell_type": "code",
   "execution_count": 16,
   "metadata": {},
   "outputs": [
    {
     "ename": "NameError",
     "evalue": "name 'result' is not defined",
     "output_type": "error",
     "traceback": [
      "\u001b[0;31m---------------------------------------------------------------------------\u001b[0m",
      "\u001b[0;31mNameError\u001b[0m                                 Traceback (most recent call last)",
      "\u001b[0;32m<ipython-input-16-c6f153cfcc24>\u001b[0m in \u001b[0;36m<module>\u001b[0;34m\u001b[0m\n\u001b[0;32m----> 1\u001b[0;31m \u001b[0mground_truth\u001b[0m\u001b[0;34m[\u001b[0m\u001b[0mresult\u001b[0m\u001b[0;34m[\u001b[0m\u001b[0;36m1\u001b[0m\u001b[0;34m]\u001b[0m\u001b[0;34m[\u001b[0m\u001b[0;34m'id'\u001b[0m\u001b[0;34m]\u001b[0m\u001b[0;34m]\u001b[0m\u001b[0;34m\u001b[0m\u001b[0;34m\u001b[0m\u001b[0m\n\u001b[0m",
      "\u001b[0;31mNameError\u001b[0m: name 'result' is not defined"
     ]
    }
   ],
   "source": [
    "ground_truth[result[1]['id']]"
   ]
  },
  {
   "cell_type": "code",
   "execution_count": 17,
   "metadata": {},
   "outputs": [
    {
     "name": "stdout",
     "output_type": "stream",
     "text": [
      "0\n",
      "1\n",
      "2\n"
     ]
    }
   ],
   "source": [
    "for i in range(0,3):\n",
    "    print(i)"
   ]
  },
  {
   "cell_type": "code",
   "execution_count": 18,
   "metadata": {},
   "outputs": [
    {
     "data": {
      "text/plain": [
       "1.0"
      ]
     },
     "execution_count": 18,
     "metadata": {},
     "output_type": "execute_result"
    }
   ],
   "source": [
    "v = [i for i in range(0,3)]\n",
    "sum(v)/len(v)"
   ]
  },
  {
   "cell_type": "code",
   "execution_count": 19,
   "metadata": {},
   "outputs": [
    {
     "data": {
      "text/plain": [
       "21"
      ]
     },
     "execution_count": 19,
     "metadata": {},
     "output_type": "execute_result"
    }
   ],
   "source": [
    "grd_values = list(ground_truth.values())\n",
    "num_vls = sum([len(vls) for vls in grd_values])\n",
    "num_vls"
   ]
  },
  {
   "cell_type": "code",
   "execution_count": 20,
   "metadata": {},
   "outputs": [
    {
     "data": {
      "text/plain": [
       "10"
      ]
     },
     "execution_count": 20,
     "metadata": {},
     "output_type": "execute_result"
    }
   ],
   "source": [
    "len(results.values())"
   ]
  },
  {
   "cell_type": "code",
   "execution_count": 16,
   "metadata": {},
   "outputs": [
    {
     "name": "stdout",
     "output_type": "stream",
     "text": [
      "Exporter\n",
      "========\n",
      "(1 Exporter (Name, fu:! address, country)\n",
      "Luke Skywalker.\n",
      "Remote !sland\n",
      "Anch-To,\n",
      "Outer Reaches\n",
      "\f",
      "\n",
      "\n",
      "\n"
     ]
    },
    {
     "ename": "NameError",
     "evalue": "name 'ocr_acc' is not defined",
     "output_type": "error",
     "traceback": [
      "\u001b[0;31m---------------------------------------------------------------------------\u001b[0m",
      "\u001b[0;31mNameError\u001b[0m                                 Traceback (most recent call last)",
      "\u001b[0;32m<ipython-input-16-c8018a34994d>\u001b[0m in \u001b[0;36m<module>\u001b[0;34m\u001b[0m\n\u001b[1;32m     31\u001b[0m \u001b[0;34m\u001b[0m\u001b[0m\n\u001b[1;32m     32\u001b[0m     \u001b[0;31m# calculate accuracy\u001b[0m\u001b[0;34m\u001b[0m\u001b[0;34m\u001b[0m\u001b[0;34m\u001b[0m\u001b[0m\n\u001b[0;32m---> 33\u001b[0;31m     \u001b[0mfield_acc\u001b[0m\u001b[0;34m[\u001b[0m\u001b[0midx\u001b[0m\u001b[0;34m]\u001b[0m\u001b[0;34m,\u001b[0m \u001b[0mdoc_acc\u001b[0m\u001b[0;34m,\u001b[0m \u001b[0mocr_text\u001b[0m \u001b[0;34m=\u001b[0m \u001b[0mocr_acc\u001b[0m\u001b[0;34m(\u001b[0m\u001b[0mground_field\u001b[0m\u001b[0;34m,\u001b[0m \u001b[0mtext\u001b[0m\u001b[0;34m.\u001b[0m\u001b[0msplit\u001b[0m\u001b[0;34m(\u001b[0m\u001b[0;34m\"\\n\"\u001b[0m\u001b[0;34m)\u001b[0m\u001b[0;34m,\u001b[0m \u001b[0mdoc_acc\u001b[0m\u001b[0;34m)\u001b[0m\u001b[0;34m\u001b[0m\u001b[0;34m\u001b[0m\u001b[0m\n\u001b[0m\u001b[1;32m     34\u001b[0m     \u001b[0mprint\u001b[0m\u001b[0;34m(\u001b[0m\u001b[0mfield_acc\u001b[0m\u001b[0;34m[\u001b[0m\u001b[0midx\u001b[0m\u001b[0;34m]\u001b[0m\u001b[0;34m)\u001b[0m\u001b[0;34m\u001b[0m\u001b[0;34m\u001b[0m\u001b[0m\n\u001b[1;32m     35\u001b[0m \u001b[0;34m\u001b[0m\u001b[0m\n",
      "\u001b[0;31mNameError\u001b[0m: name 'ocr_acc' is not defined"
     ]
    }
   ],
   "source": [
    "ocred = np.ones(aligned.shape)\n",
    "\n",
    "#initalising accuracy arrays\n",
    "doc_acc = []\n",
    "field_acc = np.zeros( (len(results.values()),1) )\n",
    "\n",
    "# loop over the results\n",
    "for (idx, result) in enumerate(results.values()):\n",
    "    # unpack the result tuple\n",
    "    (text, loc) = result\n",
    "    ground_field = ground_truth[result[1]['id']]\n",
    "    \n",
    "    # display the OCR result to our terminal\n",
    "    print(loc[\"id\"])\n",
    "    print(\"=\" * len(loc[\"id\"]))\n",
    "    print(\"{}\\n\\n\".format(text))\n",
    "\n",
    "    # extract the bounding box coordinates of the OCR location and\n",
    "    # then strip out non-ASCII text so we can draw the text on the\n",
    "    # output image using OpenCV\n",
    "    (x, y, w, h) = loc[\"bbox\"]\n",
    "    clean = cleanup_text(text)\n",
    "\n",
    "    # draw a bounding box around the text\n",
    "    cv2.rectangle(ocred, (x, y), (x + w, y + h), (0, 255, 0), 2)\n",
    "    cv2.rectangle(aligned, (x, y), (x + w, y + h), (0, 255, 0), 2)\n",
    "    \n",
    "    startY = y + 65\n",
    "    cv2.putText(ocred, headings[idx], (x, startY), cv2.FONT_HERSHEY_PLAIN, 2, (255, 0, 0), 1)\n",
    "    cv2.putText(aligned, headings[idx], (x, startY), cv2.FONT_HERSHEY_PLAIN, 2, (255, 0, 0), 1)\n",
    "    \n",
    "    # calculate accuracy\n",
    "    field_acc[idx], doc_acc, ocr_text = ocr_acc(ground_field, text.split(\"\\n\"), doc_acc)\n",
    "    print(field_acc[idx])\n",
    "    \n",
    "    # loop over all lines in the text\n",
    "    for (i, line) in enumerate(ocr_text):\n",
    "        # draw the line on the output image\n",
    "        startY = y + ((i+2) * 25) + 40\n",
    "        cv2.putText(ocred, line, (x, startY),\n",
    "            cv2.FONT_HERSHEY_PLAIN, 2, (0, 0, 255), 1)\n",
    "        cv2.putText(aligned, line, (x, startY),\n",
    "            cv2.FONT_HERSHEY_PLAIN, 2, (0, 0, 255), 1)\n",
    "\n",
    "print(f'Average Field Accuracy: {field_acc.mean()}')\n",
    "cv2.putText(ocred, f'Accuracy: {np.round(100*field_acc.mean())}%', (800, 100),\n",
    "            cv2.FONT_HERSHEY_PLAIN, 5, (255, 0, 255), 3)\n",
    "\n",
    "print(f'Average Document Accuracy:{np.asarray(doc_acc).mean()}')"
   ]
  },
  {
   "cell_type": "markdown",
   "metadata": {},
   "source": [
    "## Calculating Accuracy"
   ]
  },
  {
   "cell_type": "code",
   "execution_count": 19,
   "metadata": {},
   "outputs": [
    {
     "data": {
      "text/plain": [
       "['Luke Skywalker', 'Remote Island', 'Ahch-To', 'Outer Reaches']"
      ]
     },
     "execution_count": 19,
     "metadata": {},
     "output_type": "execute_result"
    }
   ],
   "source": [
    "field = ground_field\n",
    "field"
   ]
  },
  {
   "cell_type": "code",
   "execution_count": 20,
   "metadata": {},
   "outputs": [
    {
     "data": {
      "text/plain": [
       "['(1 Exporter (Name, fu:! address, country)',\n",
       " 'Luke Skywalker.',\n",
       " 'Remote !sland',\n",
       " 'Anch-To,',\n",
       " 'Outer Reaches',\n",
       " '\\x0c']"
      ]
     },
     "execution_count": 20,
     "metadata": {},
     "output_type": "execute_result"
    }
   ],
   "source": [
    "ocr = text.split('\\n')\n",
    "ocr"
   ]
  },
  {
   "cell_type": "code",
   "execution_count": 55,
   "metadata": {},
   "outputs": [],
   "source": [
    "from Levenshtein import distance"
   ]
  },
  {
   "cell_type": "code",
   "execution_count": 20,
   "metadata": {},
   "outputs": [],
   "source": [
    "ground_value = 'Luck Skywalker'"
   ]
  },
  {
   "cell_type": "code",
   "execution_count": 21,
   "metadata": {},
   "outputs": [],
   "source": [
    "ocr_value = text.split('\\n')[4]"
   ]
  },
  {
   "cell_type": "code",
   "execution_count": 22,
   "metadata": {},
   "outputs": [
    {
     "name": "stdout",
     "output_type": "stream",
     "text": [
      "13\n"
     ]
    }
   ],
   "source": [
    "print(damerau_levenshtein_distance(ground_value, ocr_value))"
   ]
  },
  {
   "cell_type": "code",
   "execution_count": 17,
   "metadata": {},
   "outputs": [],
   "source": [
    "def acc(ground_value, ocr_value):\n",
    "    bigger = max(len(ground_value), len(ocr_value))\n",
    "    lev = damerau_levenshtein_distance(ground_value, ocr_value)\n",
    "    return (bigger - lev)/bigger"
   ]
  },
  {
   "cell_type": "code",
   "execution_count": 24,
   "metadata": {},
   "outputs": [
    {
     "data": {
      "text/plain": [
       "0.07142857142857142"
      ]
     },
     "execution_count": 24,
     "metadata": {},
     "output_type": "execute_result"
    }
   ],
   "source": [
    "acc(ground_value, ocr_value)"
   ]
  },
  {
   "cell_type": "code",
   "execution_count": 48,
   "metadata": {},
   "outputs": [],
   "source": [
    "test_list = np.array([4,2,45,3,78])"
   ]
  },
  {
   "cell_type": "code",
   "execution_count": 23,
   "metadata": {},
   "outputs": [
    {
     "data": {
      "text/plain": [
       "['Luke Skywalker', 'Remote Island', 'Ahch-To', 'Outer Reaches']"
      ]
     },
     "execution_count": 23,
     "metadata": {},
     "output_type": "execute_result"
    }
   ],
   "source": [
    "field"
   ]
  },
  {
   "cell_type": "code",
   "execution_count": 24,
   "metadata": {},
   "outputs": [
    {
     "data": {
      "text/plain": [
       "['(1 Exporter (Name, fu:! address, country)',\n",
       " 'Luke Skywalker.',\n",
       " 'Remote !sland',\n",
       " 'Anch-To,',\n",
       " 'Outer Reaches',\n",
       " '\\x0c']"
      ]
     },
     "execution_count": 24,
     "metadata": {},
     "output_type": "execute_result"
    }
   ],
   "source": [
    "ocr"
   ]
  },
  {
   "cell_type": "code",
   "execution_count": 45,
   "metadata": {},
   "outputs": [],
   "source": [
    "def ocr_acc(field_truth, field_ocr, all_acc):\n",
    "    k = 0\n",
    "    ocr_text = []\n",
    "    max_line_acc = np.zeros( (len(field_truth),) )\n",
    "    for i, fline in enumerate(field_truth):\n",
    "        line_acc = np.zeros( (len(field_ocr[k:]),) )\n",
    "        \n",
    "        for j, oline in enumerate(field_ocr[k:]):\n",
    "            line_acc[j] = acc(fline.lower(), oline.lower())\n",
    "            \n",
    "        print(k)\n",
    "        if max(line_acc) < 0.5:\n",
    "            all_acc.append(0)\n",
    "        else:\n",
    "            max_idx = np.argmax(line_acc)\n",
    "            max_line_acc[i] = line_acc[max_idx]\n",
    "            all_acc.append(line_acc[max_idx])\n",
    "            ocr_text.append(field_ocr[k+max_idx])\n",
    "            k += np.argmax(line_acc) + 1\n",
    "    \n",
    "    print(np.asarray(all_acc).mean())\n",
    "    return max_line_acc.mean(), all_acc, ocr_text"
   ]
  },
  {
   "cell_type": "code",
   "execution_count": 46,
   "metadata": {},
   "outputs": [
    {
     "name": "stdout",
     "output_type": "stream",
     "text": [
      "0\n",
      "0\n",
      "6\n"
     ]
    },
    {
     "ename": "ValueError",
     "evalue": "max() arg is an empty sequence",
     "output_type": "error",
     "traceback": [
      "\u001b[0;31m---------------------------------------------------------------------------\u001b[0m",
      "\u001b[0;31mValueError\u001b[0m                                Traceback (most recent call last)",
      "\u001b[0;32m<ipython-input-46-bde7dae4fbfd>\u001b[0m in \u001b[0;36m<module>\u001b[0;34m\u001b[0m\n\u001b[1;32m      1\u001b[0m \u001b[0mall_acc\u001b[0m \u001b[0;34m=\u001b[0m \u001b[0;34m[\u001b[0m\u001b[0;34m]\u001b[0m\u001b[0;34m\u001b[0m\u001b[0;34m\u001b[0m\u001b[0m\n\u001b[0;32m----> 2\u001b[0;31m \u001b[0mA\u001b[0m\u001b[0;34m,\u001b[0m \u001b[0mB\u001b[0m\u001b[0;34m,\u001b[0m \u001b[0mocr_text\u001b[0m \u001b[0;34m=\u001b[0m \u001b[0mocr_acc\u001b[0m\u001b[0;34m(\u001b[0m\u001b[0mfield\u001b[0m\u001b[0;34m[\u001b[0m\u001b[0;36m0\u001b[0m\u001b[0;34m]\u001b[0m\u001b[0;34m,\u001b[0m \u001b[0mocr\u001b[0m\u001b[0;34m[\u001b[0m\u001b[0;36m1\u001b[0m\u001b[0;34m]\u001b[0m\u001b[0;34m,\u001b[0m \u001b[0mall_acc\u001b[0m\u001b[0;34m)\u001b[0m\u001b[0;34m\u001b[0m\u001b[0;34m\u001b[0m\u001b[0m\n\u001b[0m",
      "\u001b[0;32m<ipython-input-45-fff36d159b3a>\u001b[0m in \u001b[0;36mocr_acc\u001b[0;34m(field_truth, field_ocr, all_acc)\u001b[0m\n\u001b[1;32m     10\u001b[0m \u001b[0;34m\u001b[0m\u001b[0m\n\u001b[1;32m     11\u001b[0m         \u001b[0mprint\u001b[0m\u001b[0;34m(\u001b[0m\u001b[0mk\u001b[0m\u001b[0;34m)\u001b[0m\u001b[0;34m\u001b[0m\u001b[0;34m\u001b[0m\u001b[0m\n\u001b[0;32m---> 12\u001b[0;31m         \u001b[0;32mif\u001b[0m \u001b[0mmax\u001b[0m\u001b[0;34m(\u001b[0m\u001b[0mline_acc\u001b[0m\u001b[0;34m)\u001b[0m \u001b[0;34m<\u001b[0m \u001b[0;36m0.5\u001b[0m\u001b[0;34m:\u001b[0m\u001b[0;34m\u001b[0m\u001b[0;34m\u001b[0m\u001b[0m\n\u001b[0m\u001b[1;32m     13\u001b[0m             \u001b[0mall_acc\u001b[0m\u001b[0;34m.\u001b[0m\u001b[0mappend\u001b[0m\u001b[0;34m(\u001b[0m\u001b[0;36m0\u001b[0m\u001b[0;34m)\u001b[0m\u001b[0;34m\u001b[0m\u001b[0;34m\u001b[0m\u001b[0m\n\u001b[1;32m     14\u001b[0m         \u001b[0;32melse\u001b[0m\u001b[0;34m:\u001b[0m\u001b[0;34m\u001b[0m\u001b[0;34m\u001b[0m\u001b[0m\n",
      "\u001b[0;31mValueError\u001b[0m: max() arg is an empty sequence"
     ]
    }
   ],
   "source": [
    "all_acc = []\n",
    "A, B, ocr_text = ocr_acc(field[0], ocr[1], all_acc)"
   ]
  },
  {
   "cell_type": "code",
   "execution_count": 44,
   "metadata": {},
   "outputs": [
    {
     "data": {
      "text/plain": [
       "(0.9090909090909091,\n",
       " [1.0, 1.0, 1.0, 1.0, 1.0, 1.0, 0, 1.0, 1.0, 1.0, 1.0],\n",
       " ['H', 'e', 'l', 'l', 'o', ' ', 'o', 'r', 'l', 'd'])"
      ]
     },
     "execution_count": 44,
     "metadata": {},
     "output_type": "execute_result"
    }
   ],
   "source": [
    "A, B, ocr_text"
   ]
  },
  {
   "cell_type": "code",
   "execution_count": 41,
   "metadata": {},
   "outputs": [],
   "source": [
    "field = ['Hello World', 'I am Hal']\n",
    "ocr = ['dwfwef', 'sfdsfe', 'I ma Hal', 'I2 am Hal']"
   ]
  },
  {
   "cell_type": "code",
   "execution_count": 37,
   "metadata": {},
   "outputs": [
    {
     "data": {
      "text/plain": [
       "'hello world'"
      ]
     },
     "execution_count": 37,
     "metadata": {},
     "output_type": "execute_result"
    }
   ],
   "source": [
    "field[0].lower()"
   ]
  },
  {
   "cell_type": "code",
   "execution_count": 125,
   "metadata": {},
   "outputs": [
    {
     "data": {
      "text/plain": [
       "0.75"
      ]
     },
     "execution_count": 125,
     "metadata": {},
     "output_type": "execute_result"
    }
   ],
   "source": [
    "acc(fline, oline)"
   ]
  },
  {
   "cell_type": "markdown",
   "metadata": {},
   "source": [
    "## Printing Results"
   ]
  },
  {
   "cell_type": "code",
   "execution_count": 137,
   "metadata": {},
   "outputs": [
    {
     "data": {
      "text/plain": [
       "(9, 10, '12. Declaration by the Exporter')"
      ]
     },
     "execution_count": 137,
     "metadata": {},
     "output_type": "execute_result"
    }
   ],
   "source": [
    "idx, len(headings), headings[9]"
   ]
  },
  {
   "cell_type": "code",
   "execution_count": 138,
   "metadata": {},
   "outputs": [],
   "source": [
    "from matplotlib import pyplot as plt"
   ]
  },
  {
   "cell_type": "code",
   "execution_count": 139,
   "metadata": {},
   "outputs": [
    {
     "data": {
      "text/plain": [
       "<matplotlib.image.AxesImage at 0x7eff3c805f10>"
      ]
     },
     "execution_count": 139,
     "metadata": {},
     "output_type": "execute_result"
    },
    {
     "data": {
      "image/png": "[encoded data removed]",
      "text/plain": [
       "<Figure size 432x288 with 1 Axes>"
      ]
     },
     "metadata": {
      "needs_background": "light"
     },
     "output_type": "display_data"
    }
   ],
   "source": [
    "plt.imshow(image)"
   ]
  },
  {
   "cell_type": "code",
   "execution_count": 140,
   "metadata": {},
   "outputs": [
    {
     "data": {
      "text/plain": [
       "<matplotlib.image.AxesImage at 0x7eff3c7827d0>"
      ]
     },
     "execution_count": 140,
     "metadata": {},
     "output_type": "execute_result"
    },
    {
     "data": {
      "image/png": "[encoded data removed]",
      "text/plain": [
       "<Figure size 432x288 with 1 Axes>"
      ]
     },
     "metadata": {
      "needs_background": "light"
     },
     "output_type": "display_data"
    }
   ],
   "source": [
    "plt.imshow(aligned)"
   ]
  },
  {
   "cell_type": "code",
   "execution_count": 153,
   "metadata": {},
   "outputs": [
    {
     "name": "stderr",
     "output_type": "stream",
     "text": [
      "Clipping input data to the valid range for imshow with RGB data ([0..1] for floats or [0..255] for integers).\n"
     ]
    },
    {
     "data": {
      "text/plain": [
       "<matplotlib.image.AxesImage at 0x7eff3842bf90>"
      ]
     },
     "execution_count": 153,
     "metadata": {},
     "output_type": "execute_result"
    },
    {
     "data": {
      "image/png": "[encoded data removed]",
      "text/plain": [
       "<Figure size 432x288 with 1 Axes>"
      ]
     },
     "metadata": {
      "needs_background": "light"
     },
     "output_type": "display_data"
    }
   ],
   "source": [
    "plt.imshow(ocred)"
   ]
  },
  {
   "cell_type": "code",
   "execution_count": 85,
   "metadata": {},
   "outputs": [
    {
     "data": {
      "text/plain": [
       "13"
      ]
     },
     "execution_count": 85,
     "metadata": {},
     "output_type": "execute_result"
    }
   ],
   "source": [
    "# show the input and output images, resizing it such that they fit\n",
    "# on our screen\n",
    "\n",
    "\n",
    "cv2.imshow(\"Input\", imutils.resize(image, width=700))\n",
    "cv2.imshow(\"Output\", imutils.resize(aligned, width=700))\n",
    "cv2.imshow('OCR\\'ed', imutils.resize(ocred, width=700));\n",
    "cv2.waitKey(0)"
   ]
  },
  {
   "cell_type": "code",
   "execution_count": 86,
   "metadata": {},
   "outputs": [],
   "source": [
    "for window in range(0,3):\n",
    "    cv2.waitKey(0)"
   ]
  },
  {
   "cell_type": "code",
   "execution_count": null,
   "metadata": {},
   "outputs": [],
   "source": []
  }
 ],
 "metadata": {
  "kernelspec": {
   "display_name": "Python 3",
   "language": "python",
   "name": "python3"
  },
  "language_info": {
   "codemirror_mode": {
    "name": "ipython",
    "version": 3
   },
   "file_extension": ".py",
   "mimetype": "text/x-python",
   "name": "python",
   "nbconvert_exporter": "python",
   "pygments_lexer": "ipython3",
   "version": "3.7.6"
  }
 },
 "nbformat": 4,
 "nbformat_minor": 4
}
